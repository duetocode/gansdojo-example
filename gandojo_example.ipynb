{
  "nbformat": 4,
  "nbformat_minor": 0,
  "metadata": {
    "colab": {
      "name": "gandojo_example.ipynb",
      "version": "0.3.2",
      "provenance": [],
      "collapsed_sections": [],
      "include_colab_link": true
    },
    "kernelspec": {
      "name": "python3",
      "display_name": "Python 3"
    },
    "accelerator": "GPU"
  },
  "cells": [
    {
      "cell_type": "markdown",
      "metadata": {
        "id": "view-in-github",
        "colab_type": "text"
      },
      "source": [
        "<a href=\"https://colab.research.google.com/github/nova-zl504/gansdojo-example/blob/master/gandojo_example.ipynb\" target=\"_parent\"><img src=\"https://colab.research.google.com/assets/colab-badge.svg\" alt=\"Open In Colab\"/></a>"
      ]
    },
    {
      "metadata": {
        "id": "7wcMcoTuJnVa",
        "colab_type": "text"
      },
      "cell_type": "markdown",
      "source": [
        "# Example of using dansdojo to train the gan on MNIST\n",
        "\n",
        "Use pip to install the gansdojo.\n",
        "\n",
        "\n",
        "```\n",
        "$> pip install gansdojo\n",
        "```\n",
        "\n",
        "Please Note: gansdojo only works under eager mode of Tensorflow."
      ]
    },
    {
      "metadata": {
        "id": "410sP9lfhHUL",
        "colab_type": "code",
        "colab": {}
      },
      "cell_type": "code",
      "source": [
        "try:\n",
        "  import gansdojo\n",
        "except:\n",
        "  !pip install gansdojo\n",
        "  import gansdojo\n",
        "\n",
        "import tensorflow as tf\n",
        "tf.enable_eager_execution()\n",
        "import numpy as np\n",
        "\n",
        "from tensorflow import keras\n",
        "from tensorflow.keras.layers import Dense, Conv2D, Conv2DTranspose, BatchNormalization, LeakyReLU, ReLU, Reshape, Flatten\n",
        "from tensorflow.keras.models import Sequential, Model\n",
        "from tensorflow.keras import backend as K\n",
        "\n",
        "import matplotlib.pyplot as plt"
      ],
      "execution_count": 0,
      "outputs": []
    },
    {
      "metadata": {
        "id": "65s6N8LqJ_MH",
        "colab_type": "text"
      },
      "cell_type": "markdown",
      "source": [
        "# Prepare the dataset\n",
        "\n",
        "*I don't know why the background of the display image are white. I though it should be black.*"
      ]
    },
    {
      "metadata": {
        "id": "zsIG2VEPh3B0",
        "colab_type": "code",
        "colab": {
          "base_uri": "https://localhost:8080/",
          "height": 233
        },
        "outputId": "6cdadf35-060a-405c-e1a0-0ff30915b8b2"
      },
      "cell_type": "code",
      "source": [
        "def open_dataset(batch_size=64):\n",
        "    train, _ = tf.keras.datasets.mnist.load_data()\n",
        "    X, y = train\n",
        "    X = (X.astype(np.float32)/255 * 2.0) - 1.0\n",
        "    X = X.reshape((X.shape[0], 28, 28, 1))\n",
        "    \n",
        "    return tf.data.Dataset.from_tensor_slices(X).batch(batch_size)\n",
        "  \n",
        "def test_dataset():\n",
        "  dataset = open_dataset(4)\n",
        "  data = next(iter(dataset))\n",
        "  combined = K.concatenate(data, axis=1)\n",
        "  combined = K.squeeze(combined, axis=-1)\n",
        "  combined = (combined + 1.0) / 2.0 * 255.0\n",
        "  plt.imshow(combined)\n",
        "  plt.axis('off')\n",
        "  plt.show()\n",
        "  \n",
        "tf.reset_default_graph()\n",
        "test_dataset()\n",
        "  "
      ],
      "execution_count": 2,
      "outputs": [
        {
          "output_type": "stream",
          "text": [
            "WARNING:tensorflow:From /usr/local/lib/python3.6/dist-packages/tensorflow/python/data/ops/iterator_ops.py:532: colocate_with (from tensorflow.python.framework.ops) is deprecated and will be removed in a future version.\n",
            "Instructions for updating:\n",
            "Colocations handled automatically by placer.\n"
          ],
          "name": "stdout"
        },
        {
          "output_type": "display_data",
          "data": {
            "image/png": "[encoded data removed]",
            "text/plain": [
              "<Figure size 576x396 with 1 Axes>"
            ]
          },
          "metadata": {
            "tags": []
          }
        }
      ]
    },
    {
      "metadata": {
        "id": "v8V5Q7E5Kbo_",
        "colab_type": "text"
      },
      "cell_type": "markdown",
      "source": [
        "# Loss functions\n",
        "\n",
        "We use [Least Squares Generative Adversarial Networks](https://arxiv.org/abs/1611.04076)"
      ]
    },
    {
      "metadata": {
        "id": "Ei29VJaqjoav",
        "colab_type": "code",
        "colab": {}
      },
      "cell_type": "code",
      "source": [
        "def compute_generator_loss(logits_generated, logits_real, generated, batch, generator):\n",
        "  return tf.reduce_mean((logits_generated - 1.0)**2) / 2.0\n",
        "  \n",
        "def compute_discriminator_loss(logits_generated, logits_real, generated, batch, generator):\n",
        "    D_loss_real = tf.reduce_mean((logits_real - 1)**2)\n",
        "    D_loss_fake = tf.reduce_mean(logits_generated**2)\n",
        "    D_loss = (D_loss_real + D_loss_fake) / 2.0\n",
        "    return D_loss\n",
        "\n"
      ],
      "execution_count": 0,
      "outputs": []
    },
    {
      "metadata": {
        "id": "sQ58douDKqUi",
        "colab_type": "text"
      },
      "cell_type": "markdown",
      "source": [
        "# Prepare the generator and discriminator\n",
        "\n",
        "We architect the networks with DCGAN"
      ]
    },
    {
      "metadata": {
        "id": "kdJpSK6ojtOr",
        "colab_type": "code",
        "colab": {}
      },
      "cell_type": "code",
      "source": [
        "\n",
        "def build_generator() -> Model:\n",
        "    model = Sequential()\n",
        "\n",
        "    model.add(Dense(7 * 7 * 256, input_dim=256))\n",
        "    model.add(BatchNormalization())\n",
        "    model.add(ReLU())\n",
        "    model.add(Reshape([7, 7, 256]))\n",
        "\n",
        "    model.add(Conv2DTranspose(128, 5, strides=2, padding='same'))\n",
        "    model.add(BatchNormalization())\n",
        "    model.add(ReLU())\n",
        "\n",
        "    model.add(Conv2DTranspose(64, 5, strides=2, padding='same'))\n",
        "    model.add(BatchNormalization())\n",
        "    model.add(ReLU())\n",
        "\n",
        "    model.add(Conv2D(1, 5, padding='same', activation='tanh'))\n",
        "\n",
        "    return model\n",
        "\n",
        "def build_discriminator() -> Model:\n",
        "    model = Sequential()\n",
        "\n",
        "    model.add(Conv2D(32, 5, strides=2, padding='same', input_shape=(28, 28, 1)))\n",
        "    model.add(BatchNormalization())\n",
        "    model.add(LeakyReLU())\n",
        "\n",
        "    model.add(Conv2D(64, 5, strides=2, padding='same'))\n",
        "    model.add(BatchNormalization())\n",
        "    model.add(LeakyReLU())\n",
        "\n",
        "    model.add(Conv2D(128, 5, strides=2, padding='same'))\n",
        "    model.add(BatchNormalization())\n",
        "    model.add(LeakyReLU())\n",
        "\n",
        "    model.add(Flatten())\n",
        "    model.add(Dense(1))\n",
        "\n",
        "    return model\n"
      ],
      "execution_count": 0,
      "outputs": []
    },
    {
      "metadata": {
        "id": "GhHrAQoxKzHH",
        "colab_type": "text"
      },
      "cell_type": "markdown",
      "source": [
        "# Wire everything together and train the GANs!"
      ]
    },
    {
      "metadata": {
        "id": "Hm7XM7cljxTq",
        "colab_type": "code",
        "colab": {
          "base_uri": "https://localhost:8080/",
          "height": 153
        },
        "outputId": "265dd2d9-61a0-4bb3-b742-4063bf90f8de"
      },
      "cell_type": "code",
      "source": [
        "from gansdojo import Dojo, ObservableDojo, Config\n",
        "from gansdojo.modules import TensorBoardLogger, SampleRunner, CheckpointSaver, ConsoleUpdator\n",
        "\n",
        "!rm -rf logs\n",
        "\n",
        "config = Config(\n",
        "    training_ratio=1,\n",
        "    input_dim=256,\n",
        "    dataset=open_dataset,\n",
        "    batches_per_epoch=200,\n",
        "    generator=build_generator,\n",
        "    discriminator=build_discriminator,\n",
        "    optimizer_generator=tf.train.AdamOptimizer(1e-4),\n",
        "    optimizer_discriminator=tf.train.AdamOptimizer(1e-4),\n",
        "    generator_loss_fn=compute_generator_loss,\n",
        "    discriminator_loss_fn=compute_discriminator_loss)\n",
        "\n",
        "observable = ObservableDojo(config)\n",
        "plugins = [ConsoleUpdator(), CheckpointSaver('checkpoints'), TensorBoardLogger('logs'), SampleRunner()]\n",
        "for plugin in plugins:\n",
        "    plugin.setup(observable)\n",
        "    \n",
        "observable.train(epochs=100)"
      ],
      "execution_count": 0,
      "outputs": [
        {
          "output_type": "stream",
          "text": [
            "\n",
            "WARNING: The TensorFlow contrib module will not be included in TensorFlow 2.0.\n",
            "For more information, please see:\n",
            "  * https://github.com/tensorflow/community/blob/master/rfcs/20180907-contrib-sunset.md\n",
            "  * https://github.com/tensorflow/addons\n",
            "If you depend on functionality not listed there, please file an issue.\n",
            "\n",
            "4960 E:25 I:160 7.80 b/s G:1.9298e-01 D:1.7695e-01"
          ],
          "name": "stdout"
        }
      ]
    }
  ]
}